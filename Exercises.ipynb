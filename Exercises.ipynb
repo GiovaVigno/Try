{
 "cells": [
  {
   "cell_type": "code",
   "execution_count": 15,
   "id": "0a7a4a7e",
   "metadata": {},
   "outputs": [
    {
     "name": "stdout",
     "output_type": "stream",
     "text": [
      "Alright...\n",
      "What is your lucky number? 6\n",
      "Wrong, too high.\n",
      "\n"
     ]
    }
   ],
   "source": [
    "import random \n",
    "import sys\n",
    "\n",
    "\n",
    "\n",
    "MINIMUM = 1\n",
    "\n",
    "MAXIMUM = 9 \n",
    "NUMBER = random.randint(MINIMUM,MAXIMUM)\n",
    "GUESS = None\n",
    "ANOTHER = None\n",
    "\n",
    "TRY = 0\n",
    "\n",
    "RUNNING = True\n",
    "\n",
    "print(\"Alright...\")\n",
    "\n",
    "\n",
    "while RUNNING:\n",
    "    \n",
    "    GUESS = input(\"What is your lucky number? \")\n",
    "    \n",
    "    if int(GUESS) < NUMBER:\n",
    "        print(\"Wrong, too low.\")\n",
    "\n",
    "    elif int(GUESS) > NUMBER:\n",
    "        print(\"Wrong, too high.\")\n",
    "    elif GUESS.lower() == \"exit\":\n",
    "        print(\"Better luck next time.\")\n",
    "        GUESS = int(GUESS)\n",
    "        \n",
    "    elif int(GUESS) == NUMBER:\n",
    "        print(\"Yes, that's the one, %s.\" %str(TRY))\n",
    "        \n",
    "        if TRY < 2:\n",
    "            print(\"Impressive, only %s tries.\" %str(TRY))\n",
    "            \n",
    "        elif TRY > 2 and TRY < 10:\n",
    "            print(\"Pretty good, %s tries.\" %str(TRY))\n",
    "            \n",
    "        else:\n",
    "            print(\"Bad, %s tries.\" %str(TRY))\n",
    "            \n",
    "    RUNNING = False\n",
    "TRY += 1\n",
    "print('')\n",
    "    "
   ]
  },
  {
   "cell_type": "code",
   "execution_count": 2,
   "id": "6c9ec861",
   "metadata": {},
   "outputs": [
    {
     "name": "stdout",
     "output_type": "stream",
     "text": [
      "0.9992766881085402\n",
      "0.9992766881085516\n",
      "729 ms ± 65.5 ms per loop (mean ± std. dev. of 7 runs, 1 loop each)\n",
      "7.93 ms ± 414 µs per loop (mean ± std. dev. of 7 runs, 100 loops each)\n"
     ]
    }
   ],
   "source": [
    "import numpy as np\n",
    "import numpy.random as rdm\n",
    "from math import sqrt\n",
    "\n",
    "def py_std(x):\n",
    "    mean_val = sum(x) / len(x)\n",
    "    return sqrt(sum((val-mean_val)**2 for val in x)/ len(x))\n",
    "\n",
    "large_array = rdm.normal(size= (1000000,))\n",
    "\n",
    "print(py_std(large_array))\n",
    "print(np.std(large_array))\n",
    "\n",
    "%timeit py_std(large_array)\n",
    "%timeit np.std(large_array)"
   ]
  },
  {
   "cell_type": "markdown",
   "id": "c9418748",
   "metadata": {},
   "source": [
    "# Filmato come tensore"
   ]
  },
  {
   "cell_type": "code",
   "execution_count": 1,
   "id": "33bce2a2",
   "metadata": {},
   "outputs": [
    {
     "name": "stdout",
     "output_type": "stream",
     "text": [
      "[[[ 27 223 121  68 119]\n",
      "  [ 68 231 240 220 115]\n",
      "  [  2 181 248 194 158]\n",
      "  [248 217  55 245 159]\n",
      "  [195  93 104   5 201]]\n",
      "\n",
      " [[104 147  29  24 113]\n",
      "  [146   9 206 248 132]\n",
      "  [158 154 108 226  76]\n",
      "  [165  56   6 126  98]\n",
      "  [216  95  50  30 114]]\n",
      "\n",
      " [[155 230 127 234 235]\n",
      "  [  8   3 111 239 131]\n",
      "  [136  45  15 238 218]\n",
      "  [224 218 104  13  41]\n",
      "  [202 191 229 109  21]]\n",
      "\n",
      " ...\n",
      "\n",
      " [[  5 211  13 103 106]\n",
      "  [154  24 249 236 154]\n",
      "  [  5 216  33 216  78]\n",
      "  [ 26 126  44   9 244]\n",
      "  [ 10 199  90  86  92]]\n",
      "\n",
      " [[ 33 136 230 154   4]\n",
      "  [ 25  35 247 213 200]\n",
      "  [ 51 178 107 184 226]\n",
      "  [182   2  15 243  60]\n",
      "  [242 126 214  84  67]]\n",
      "\n",
      " [[178 222  85 136  18]\n",
      "  [219 157  23 247 208]\n",
      "  [235  99  39  35  65]\n",
      "  [239  70 189  14  61]\n",
      "  [ 60  95  13 200 193]]]\n"
     ]
    }
   ],
   "source": [
    "import numpy as np \n",
    "import numpy.random as rdm\n",
    "\n",
    "n_frames = 50\n",
    "n_pixel_x = 5\n",
    "n_pixel_y = 5\n",
    "\n",
    "movie = rdm.randint(0, 250 , (n_frames, n_pixel_y, n_pixel_x))\n",
    "\n",
    "print(movie)"
   ]
  },
  {
   "cell_type": "code",
   "execution_count": 2,
   "id": "d4ef1c95",
   "metadata": {},
   "outputs": [
    {
     "name": "stdout",
     "output_type": "stream",
     "text": [
      "(50, 5, 5)\n"
     ]
    }
   ],
   "source": [
    "print(movie.shape)"
   ]
  },
  {
   "cell_type": "code",
   "execution_count": 4,
   "id": "9cbafbc9",
   "metadata": {},
   "outputs": [
    {
     "name": "stdout",
     "output_type": "stream",
     "text": [
      "[[131.1  124.58 121.22 141.76 116.24]\n",
      " [119.46 112.64 126.3  139.62 127.66]\n",
      " [121.54 108.86 120.48 147.62 120.4 ]\n",
      " [119.86 129.   109.88 135.64 135.2 ]\n",
      " [122.56 123.86 113.2   93.34 134.66]]\n",
      "(5, 5)\n"
     ]
    }
   ],
   "source": [
    "pixel_mean_intensity = np.mean(movie, axis = 0)\n",
    "print(pixel_mean_intensity)\n",
    "print(pixel_mean_intensity.shape)"
   ]
  },
  {
   "cell_type": "code",
   "execution_count": 8,
   "id": "2fc5630a",
   "metadata": {},
   "outputs": [
    {
     "name": "stdout",
     "output_type": "stream",
     "text": [
      "[0 1 2 3 4 5 6 7 8 9]\n"
     ]
    }
   ],
   "source": [
    "a = np.arange(10)\n",
    "print(a)"
   ]
  },
  {
   "cell_type": "markdown",
   "id": "2e7af2e8",
   "metadata": {},
   "source": [
    "# 2"
   ]
  },
  {
   "cell_type": "code",
   "execution_count": 14,
   "id": "2ba1524e",
   "metadata": {},
   "outputs": [
    {
     "name": "stdout",
     "output_type": "stream",
     "text": [
      "5.0024\n",
      "0.0024\n",
      "2.9996382103325687 2.9996382103325687\n"
     ]
    }
   ],
   "source": [
    "import numpy as np\n",
    "import numpy.random as rdm \n",
    "\n",
    "array_norm = rdm.normal(5,3, 1000000)\n",
    "\n",
    "#sottraggo 5 e guardo se ha funzionato\n",
    "print(round(np.mean(array_norm), 4))\n",
    "array_norm -= 5\n",
    "print(round(np.mean(array_norm), 4))\n",
    "\n",
    "#implemento la deviazione std e confronto con np.std\n",
    "residuals = array_norm - np.mean(array_norm)\n",
    "squared_residuals = residuals**2\n",
    "variance = np.sum(squared_residuals)/ array_norm.size\n",
    "print(np.std(array_norm), np.sqrt(variance))\n"
   ]
  },
  {
   "cell_type": "code",
   "execution_count": 1,
   "id": "3dc35e96",
   "metadata": {},
   "outputs": [
    {
     "data": {
      "text/plain": [
       "'C:\\\\Users\\\\vgiov'"
      ]
     },
     "execution_count": 1,
     "metadata": {},
     "output_type": "execute_result"
    }
   ],
   "source": [
    "import os \n",
    "os.getcwd()\n"
   ]
  },
  {
   "cell_type": "code",
   "execution_count": null,
   "id": "e5e1f43a",
   "metadata": {},
   "outputs": [],
   "source": []
  }
 ],
 "metadata": {
  "kernelspec": {
   "display_name": "Python 3",
   "language": "python",
   "name": "python3"
  },
  "language_info": {
   "codemirror_mode": {
    "name": "ipython",
    "version": 3
   },
   "file_extension": ".py",
   "mimetype": "text/x-python",
   "name": "python",
   "nbconvert_exporter": "python",
   "pygments_lexer": "ipython3",
   "version": "3.8.8"
  }
 },
 "nbformat": 4,
 "nbformat_minor": 5
}
